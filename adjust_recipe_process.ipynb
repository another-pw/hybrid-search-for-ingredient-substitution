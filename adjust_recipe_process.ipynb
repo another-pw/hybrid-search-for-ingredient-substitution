{
 "cells": [
  {
   "cell_type": "markdown",
   "metadata": {},
   "source": [
    "#### Adjust Recipe (Instructions Part)"
   ]
  },
  {
   "cell_type": "code",
   "execution_count": 3,
   "metadata": {},
   "outputs": [],
   "source": [
    "from pathlib import Path\n",
    "from tqdm import tqdm\n",
    "\n",
    "import json\n",
    "import re\n",
    "\n",
    "def replace_words(text, old_word, new_word):\n",
    "    # This pattern ensures that the word boundaries are respected\n",
    "    # so only whole words are replaced, and not parts of other words.\n",
    "    # \\b is a word boundary, \\W is any non-word character.\n",
    "    pattern = r'(\\b){}(\\b)|(\\W)'.format(re.escape(old_word))\n",
    "    \n",
    "    def replace(match):\n",
    "        if match.group(0) == old_word:\n",
    "            return new_word\n",
    "        else:\n",
    "            return match.group(0)  # Return non-word characters as is\n",
    "    \n",
    "    return re.sub(pattern, replace, text)"
   ]
  },
  {
   "cell_type": "code",
   "execution_count": 4,
   "metadata": {},
   "outputs": [
    {
     "name": "stderr",
     "output_type": "stream",
     "text": [
      "aggregating pairs: 100%|██████████| 3144/3144 [00:00<00:00, 1047493.19it/s]\n",
      "replacing ingredients: 100%|██████████| 10/10 [00:00<00:00, 526.19it/s]"
     ]
    },
    {
     "name": "stdout",
     "output_type": "stream",
     "text": [
      "replaced ingredients in recipes with its substitutions\n"
     ]
    },
    {
     "name": "stderr",
     "output_type": "stream",
     "text": [
      "\n"
     ]
    }
   ],
   "source": [
    "substitute_pairs_file_path = 'path/to/substitute_result.json'\n",
    "recipes_file_path = 'path/to/eval_recipes.json' # in the format of Recipe1M\n",
    "new_recipes_export_path = 'path/to/export/new_recipes.json'\n",
    "\n",
    "with Path(substitute_pairs_file_path).open() as f:\n",
    "    substitute_pairs = json.load(f)\n",
    "\n",
    "with Path(recipes_file_path).open() as f:\n",
    "    recipes = json.load(f)\n",
    "\n",
    "substitutes_dict = {}\n",
    "for ingredient, substitute in tqdm(substitute_pairs, desc='aggregating pairs'):\n",
    "    ingredient = ingredient.replace(' ', '_')\n",
    "    substitute = substitute.replace(' ', '_')\n",
    "\n",
    "    if ingredient not in substitutes_dict:\n",
    "        substitutes_dict[ingredient] = [substitute]\n",
    "    else:\n",
    "        substitutes_dict[ingredient].append(substitute)\n",
    "\n",
    "for recipe in tqdm(recipes, desc='replacing ingredients'):\n",
    "    substitutions = []\n",
    "    for ingredient in recipe['ingredients']:\n",
    "        ingredient = ingredient['text']\n",
    "        if ingredient in substitutes_dict:\n",
    "            substitutions.append({ ingredient: substitutes_dict[ingredient] })\n",
    "    \n",
    "    recipe['substitutions'] = substitutions\n",
    "\n",
    "    for i, instruction in enumerate(recipe['instructions']):\n",
    "        for substitution in substitutions:\n",
    "            target = list(substitution.keys())[0]\n",
    "            replacement = f'{target} ({' / '.join(substitution[target])})'\n",
    "\n",
    "            recipe['instructions'][i]['text'] = replace_words(instruction['text'], target, replacement)\n",
    "    \n",
    "with Path(new_recipes_export_path).open('w') as f:\n",
    "    json.dump(recipes, f, indent=2)\n",
    "\n",
    "print('replaced ingredients in recipes with its substitutions')"
   ]
  }
 ],
 "metadata": {
  "kernelspec": {
   "display_name": "hs",
   "language": "python",
   "name": "python3"
  },
  "language_info": {
   "codemirror_mode": {
    "name": "ipython",
    "version": 3
   },
   "file_extension": ".py",
   "mimetype": "text/x-python",
   "name": "python",
   "nbconvert_exporter": "python",
   "pygments_lexer": "ipython3",
   "version": "3.12.2"
  },
  "orig_nbformat": 4
 },
 "nbformat": 4,
 "nbformat_minor": 2
}
